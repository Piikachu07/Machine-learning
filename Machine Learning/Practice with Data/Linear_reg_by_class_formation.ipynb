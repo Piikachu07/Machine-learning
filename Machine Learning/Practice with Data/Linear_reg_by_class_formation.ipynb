{
 "cells": [
  {
   "cell_type": "code",
   "execution_count": 41,
   "id": "fdf4a930-a6ce-4f4e-8320-17423a004128",
   "metadata": {},
   "outputs": [],
   "source": [
    "class Linear_R:\n",
    "    def __init__(self):\n",
    "        self.m = None\n",
    "        self.b = None\n",
    "\n",
    "    def fit(self, X_train, y_train):\n",
    "        num = 0\n",
    "        den = 0\n",
    "\n",
    "        for i in range(X_train.shape[0]):\n",
    "            num = num + ((X_train.iloc[i] - X_train.mean()) * (y_train.iloc[i] - y_train.mean()))\n",
    "            den = den + ((X_train.iloc[i] - X_train.mean()) * (X_train.iloc[i] - X_train.mean()))\n",
    "\n",
    "\n",
    "        self.m = num / den\n",
    "        self.b = y_train.mean() - (self.m * X_train.mean())\n",
    "\n",
    "        print(\"The slope of the regression is:\", self.m)\n",
    "        print(\"The constant of the regression is:\", self.b)\n",
    "\n",
    "    def predict(self, X_test):\n",
    "        print(X_test)\n",
    "        return self.m * X_test + self.b"
   ]
  },
  {
   "cell_type": "code",
   "execution_count": 8,
   "id": "752c3084-7359-4072-bbc6-862f91512b39",
   "metadata": {},
   "outputs": [],
   "source": [
    "import numpy as np\n",
    "import pandas as pd\n",
    "from sklearn.model_selection import train_test_split"
   ]
  },
  {
   "cell_type": "code",
   "execution_count": 23,
   "id": "dba886ca-e5c8-488f-afa8-32810e601953",
   "metadata": {},
   "outputs": [
    {
     "data": {
      "text/html": [
       "<div>\n",
       "<style scoped>\n",
       "    .dataframe tbody tr th:only-of-type {\n",
       "        vertical-align: middle;\n",
       "    }\n",
       "\n",
       "    .dataframe tbody tr th {\n",
       "        vertical-align: top;\n",
       "    }\n",
       "\n",
       "    .dataframe thead th {\n",
       "        text-align: right;\n",
       "    }\n",
       "</style>\n",
       "<table border=\"1\" class=\"dataframe\">\n",
       "  <thead>\n",
       "    <tr style=\"text-align: right;\">\n",
       "      <th></th>\n",
       "      <th>cgpa</th>\n",
       "      <th>package</th>\n",
       "    </tr>\n",
       "  </thead>\n",
       "  <tbody>\n",
       "    <tr>\n",
       "      <th>0</th>\n",
       "      <td>6.89</td>\n",
       "      <td>3.26</td>\n",
       "    </tr>\n",
       "    <tr>\n",
       "      <th>1</th>\n",
       "      <td>5.12</td>\n",
       "      <td>1.98</td>\n",
       "    </tr>\n",
       "    <tr>\n",
       "      <th>2</th>\n",
       "      <td>7.82</td>\n",
       "      <td>3.25</td>\n",
       "    </tr>\n",
       "    <tr>\n",
       "      <th>3</th>\n",
       "      <td>7.42</td>\n",
       "      <td>3.67</td>\n",
       "    </tr>\n",
       "    <tr>\n",
       "      <th>4</th>\n",
       "      <td>6.94</td>\n",
       "      <td>3.57</td>\n",
       "    </tr>\n",
       "    <tr>\n",
       "      <th>...</th>\n",
       "      <td>...</td>\n",
       "      <td>...</td>\n",
       "    </tr>\n",
       "    <tr>\n",
       "      <th>195</th>\n",
       "      <td>6.93</td>\n",
       "      <td>2.46</td>\n",
       "    </tr>\n",
       "    <tr>\n",
       "      <th>196</th>\n",
       "      <td>5.89</td>\n",
       "      <td>2.57</td>\n",
       "    </tr>\n",
       "    <tr>\n",
       "      <th>197</th>\n",
       "      <td>7.21</td>\n",
       "      <td>3.24</td>\n",
       "    </tr>\n",
       "    <tr>\n",
       "      <th>198</th>\n",
       "      <td>7.63</td>\n",
       "      <td>3.96</td>\n",
       "    </tr>\n",
       "    <tr>\n",
       "      <th>199</th>\n",
       "      <td>6.22</td>\n",
       "      <td>2.33</td>\n",
       "    </tr>\n",
       "  </tbody>\n",
       "</table>\n",
       "<p>200 rows × 2 columns</p>\n",
       "</div>"
      ],
      "text/plain": [
       "     cgpa  package\n",
       "0    6.89     3.26\n",
       "1    5.12     1.98\n",
       "2    7.82     3.25\n",
       "3    7.42     3.67\n",
       "4    6.94     3.57\n",
       "..    ...      ...\n",
       "195  6.93     2.46\n",
       "196  5.89     2.57\n",
       "197  7.21     3.24\n",
       "198  7.63     3.96\n",
       "199  6.22     2.33\n",
       "\n",
       "[200 rows x 2 columns]"
      ]
     },
     "execution_count": 23,
     "metadata": {},
     "output_type": "execute_result"
    }
   ],
   "source": [
    "df = pd.read_csv('placement.csv')\n",
    "df"
   ]
  },
  {
   "cell_type": "code",
   "execution_count": 24,
   "id": "9f91e29d-c3d5-4ea2-865d-46ad77937f52",
   "metadata": {},
   "outputs": [
    {
     "data": {
      "text/plain": [
       "0      3.26\n",
       "1      1.98\n",
       "2      3.25\n",
       "3      3.67\n",
       "4      3.57\n",
       "       ... \n",
       "195    2.46\n",
       "196    2.57\n",
       "197    3.24\n",
       "198    3.96\n",
       "199    2.33\n",
       "Name: package, Length: 200, dtype: float64"
      ]
     },
     "execution_count": 24,
     "metadata": {},
     "output_type": "execute_result"
    }
   ],
   "source": [
    "X = df.iloc[:,1]\n",
    "y = df.iloc[:,0]\n",
    "X"
   ]
  },
  {
   "cell_type": "code",
   "execution_count": 25,
   "id": "a6581e24-c266-46a7-b43b-131bae82e6e2",
   "metadata": {},
   "outputs": [],
   "source": [
    "X_train, X_test, y_train, y_test = train_test_split(X, y, test_size = 0.2, random_state = 42)"
   ]
  },
  {
   "cell_type": "code",
   "execution_count": 42,
   "id": "3794c8eb-2479-4627-a4a7-b11399f3cde7",
   "metadata": {},
   "outputs": [
    {
     "data": {
      "text/plain": [
       "(160,)"
      ]
     },
     "execution_count": 42,
     "metadata": {},
     "output_type": "execute_result"
    }
   ],
   "source": [
    "lr = Linear_R()\n",
    "X_train.shape"
   ]
  },
  {
   "cell_type": "code",
   "execution_count": 43,
   "id": "c8bc3a5e-0ec6-42fa-af4f-9f2ff17dca02",
   "metadata": {},
   "outputs": [
    {
     "name": "stdout",
     "output_type": "stream",
     "text": [
      "The slope of the regression is: 1.3510233483707685\n",
      "The constant of the regression is: 2.957877926199724\n"
     ]
    }
   ],
   "source": [
    "lr.fit(X_train,y_train)"
   ]
  },
  {
   "cell_type": "code",
   "execution_count": 46,
   "id": "f29a12a4-a1d7-4a54-804a-e86f2a7b8238",
   "metadata": {},
   "outputs": [
    {
     "name": "stdout",
     "output_type": "stream",
     "text": [
      "95     2.79\n",
      "15     3.23\n",
      "30     3.26\n",
      "158    3.04\n",
      "128    3.34\n",
      "115    4.21\n",
      "69     2.94\n",
      "170    2.87\n",
      "174    2.99\n",
      "45     3.58\n",
      "66     1.63\n",
      "182    2.08\n",
      "165    4.08\n",
      "78     2.21\n",
      "186    3.47\n",
      "177    3.64\n",
      "56     2.74\n",
      "152    3.08\n",
      "82     2.17\n",
      "68     2.99\n",
      "124    2.31\n",
      "16     2.35\n",
      "148    3.40\n",
      "93     3.08\n",
      "65     3.81\n",
      "60     2.19\n",
      "84     1.53\n",
      "67     2.89\n",
      "125    3.16\n",
      "132    2.48\n",
      "9      3.51\n",
      "18     2.98\n",
      "55     3.39\n",
      "75     3.28\n",
      "150    2.73\n",
      "104    3.74\n",
      "135    2.60\n",
      "137    3.13\n",
      "164    3.82\n",
      "76     3.15\n",
      "Name: package, dtype: float64\n"
     ]
    },
    {
     "data": {
      "text/plain": [
       "95     6.727233\n",
       "15     7.321683\n",
       "30     7.362214\n",
       "158    7.064989\n",
       "128    7.470296\n",
       "115    8.645686\n",
       "69     6.929887\n",
       "170    6.835315\n",
       "174    6.997438\n",
       "45     7.794542\n",
       "66     5.160046\n",
       "182    5.768006\n",
       "165    8.470053\n",
       "78     5.943640\n",
       "186    7.645929\n",
       "177    7.875603\n",
       "56     6.659682\n",
       "152    7.119030\n",
       "82     5.889599\n",
       "68     6.997438\n",
       "124    6.078742\n",
       "16     6.132783\n",
       "148    7.551357\n",
       "93     7.119030\n",
       "65     8.105277\n",
       "60     5.916619\n",
       "84     5.024944\n",
       "67     6.862335\n",
       "125    7.227112\n",
       "132    6.308416\n",
       "9      7.699970\n",
       "18     6.983928\n",
       "55     7.537847\n",
       "75     7.389235\n",
       "150    6.646172\n",
       "104    8.010705\n",
       "135    6.470539\n",
       "137    7.186581\n",
       "164    8.118787\n",
       "76     7.213601\n",
       "Name: package, dtype: float64"
      ]
     },
     "execution_count": 46,
     "metadata": {},
     "output_type": "execute_result"
    }
   ],
   "source": [
    "lr.predict(X_test)"
   ]
  },
  {
   "cell_type": "code",
   "execution_count": null,
   "id": "bb1c7cb9-b35f-438c-9d62-a1b5bd5aca55",
   "metadata": {},
   "outputs": [],
   "source": []
  }
 ],
 "metadata": {
  "kernelspec": {
   "display_name": "Python 3 (ipykernel)",
   "language": "python",
   "name": "python3"
  },
  "language_info": {
   "codemirror_mode": {
    "name": "ipython",
    "version": 3
   },
   "file_extension": ".py",
   "mimetype": "text/x-python",
   "name": "python",
   "nbconvert_exporter": "python",
   "pygments_lexer": "ipython3",
   "version": "3.11.4"
  }
 },
 "nbformat": 4,
 "nbformat_minor": 5
}
